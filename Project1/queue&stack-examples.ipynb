{
  "metadata": {
    "colab": {
      "name": "Project0.1.ipynb",
      "provenance": []
    },
    "kernelspec": {
      "name": "python",
      "display_name": "Python (Pyodide)",
      "language": "python"
    },
    "language_info": {
      "codemirror_mode": {
        "name": "python",
        "version": 3
      },
      "file_extension": ".py",
      "mimetype": "text/x-python",
      "name": "python",
      "nbconvert_exporter": "python",
      "pygments_lexer": "ipython3",
      "version": "3.8"
    }
  },
  "nbformat_minor": 4,
  "nbformat": 4,
  "cells": [
    {
      "cell_type": "markdown",
      "source": "# Stack and Queue in Python\nA stack is a linear data structure that stores items in a Last-In/First-Out (LIFO) or First-In/Last-Out (FILO) manner. Whereas in queue it is First-In/First-Out (FIFO). Here we discuss the two most commonly used datastructures for stack and queue while mentioning differences in them.\n\nWe show the following implementation below.\n1. Using list\n2. Using deque from collections\n",
      "metadata": {
        "id": "yIdPzJmfhd1-"
      }
    },
    {
      "cell_type": "markdown",
      "source": "## Implementation using list:\n**Stack** works on the principle of “Last-in, first-out”. Also, the inbuilt functions in Python make the code short and simple. To add an item to the top of the list, i.e., to push an item, we use append() function and to pop out an element we use pop() function. These functions work quiet efficiently and fast in end operations.",
      "metadata": {
        "id": "snRoicJhkO6B"
      }
    },
    {
      "cell_type": "code",
      "source": "stack = [\"Amar\", \"Akbar\", \"Anthony\"]\nstack.append(\"Ram\")\nstack.append(\"Iqbal\")\nprint(stack)\n  \n# Removes the last item\nprint(stack.pop())\n  \nprint(stack)\n  \n# Removes the last item\nprint(stack.pop())\n  \nprint(stack)",
      "metadata": {
        "colab": {
          "base_uri": "https://localhost:8080/"
        },
        "id": "5i5dmKzxhjkf",
        "outputId": "c1cd4da2-3655-4e08-8012-09c6392a9016"
      },
      "execution_count": null,
      "outputs": [
        {
          "output_type": "stream",
          "name": "stdout",
          "text": "['Amar', 'Akbar', 'Anthony', 'Ram', 'Iqbal']\n\nIqbal\n\n['Amar', 'Akbar', 'Anthony', 'Ram']\n\nRam\n\n['Amar', 'Akbar', 'Anthony']\n"
        }
      ]
    },
    {
      "cell_type": "markdown",
      "source": "**Queue** works on the principle of “First-in, first-out”. Below is list implementation of queue. We use pop(0) to remove the first item from a list. This is not a efficient implementation of Queue.",
      "metadata": {
        "id": "zP7dVBU1O5RP"
      }
    },
    {
      "cell_type": "code",
      "source": "queue = [\"Amar\", \"Akbar\", \"Anthony\"]\nqueue.append(\"Ram\")\nqueue.append(\"Iqbal\")\nprint(queue)\n  \n# Removes the first item\nprint(queue.pop(0))\n  \nprint(queue)\n  \n# Removes the first item\nprint(queue.pop(0))\n  \nprint(queue)",
      "metadata": {
        "colab": {
          "base_uri": "https://localhost:8080/"
        },
        "id": "PudwacdTP2tn",
        "outputId": "978eaef9-fe85-40c6-fb04-43511201c6df"
      },
      "execution_count": null,
      "outputs": [
        {
          "output_type": "stream",
          "name": "stdout",
          "text": "['Amar', 'Akbar', 'Anthony', 'Ram', 'Iqbal']\n\nAmar\n\n['Akbar', 'Anthony', 'Ram', 'Iqbal']\n\nAkbar\n\n['Anthony', 'Ram', 'Iqbal']\n"
        }
      ]
    },
    {
      "cell_type": "markdown",
      "source": "Note: Other functions of list can be used directly.",
      "metadata": {
        "id": "ojK4Cf9akt59"
      }
    },
    {
      "cell_type": "markdown",
      "source": "## Implementation using collections.deque:\nIn case of **stack**, list implementation as well as deque implementation works fine and provides both append() and pop() in O(1) time.",
      "metadata": {
        "id": "aNTTaBlPnG6R"
      }
    },
    {
      "cell_type": "code",
      "source": "from collections import deque\nqueue = deque([\"Ram\", \"Tarun\", \"Asif\", \"John\"])\nprint(queue)\nqueue.append(\"Akbar\")\nprint(queue)\nqueue.append(\"Birbal\")\nprint(queue)\nprint(queue.pop())                 \nprint(queue.pop())                 \nprint(queue)",
      "metadata": {
        "colab": {
          "base_uri": "https://localhost:8080/"
        },
        "id": "yQ2ARzArAtpr",
        "outputId": "7ec3bae6-55d7-41ad-dfaa-de501ccb1e75"
      },
      "execution_count": null,
      "outputs": [
        {
          "output_type": "stream",
          "name": "stdout",
          "text": "deque(['Ram', 'Tarun', 'Asif', 'John'])\n\ndeque(['Ram', 'Tarun', 'Asif', 'John', 'Akbar'])\n\ndeque(['Ram', 'Tarun', 'Asif', 'John', 'Akbar', 'Birbal'])\n\nBirbal\n\nAkbar\n\ndeque(['Ram', 'Tarun', 'Asif', 'John'])\n"
        }
      ]
    },
    {
      "cell_type": "markdown",
      "source": "In case of **queue**, when pop() is made from the beginning of the list, it is slow. This occurs due to the properties of list, which is fast at the end operations but slow at the beginning operations, as all other elements have to be shifted one by one.\nThus, we use dequeue over list for queue implementation.",
      "metadata": {
        "id": "vg7oQIrCQZTg"
      }
    },
    {
      "cell_type": "code",
      "source": "from collections import deque\nqueue = deque([\"Ram\", \"Tarun\", \"Asif\", \"John\"])\nprint(queue)\nqueue.append(\"Akbar\")\nprint(queue)\nqueue.append(\"Birbal\")\nprint(queue)\nprint(queue.popleft())                 \nprint(queue.popleft())                 \nprint(queue)",
      "metadata": {
        "colab": {
          "base_uri": "https://localhost:8080/"
        },
        "id": "gqMjDxDAQZ5I",
        "outputId": "311b19dc-e475-4991-a662-13f27a9077fe"
      },
      "execution_count": null,
      "outputs": [
        {
          "output_type": "stream",
          "name": "stdout",
          "text": "deque(['Ram', 'Tarun', 'Asif', 'John'])\n\ndeque(['Ram', 'Tarun', 'Asif', 'John', 'Akbar'])\n\ndeque(['Ram', 'Tarun', 'Asif', 'John', 'Akbar', 'Birbal'])\n\nRam\n\nTarun\n\ndeque(['Asif', 'John', 'Akbar', 'Birbal'])\n"
        }
      ]
    },
    {
      "cell_type": "code",
      "source": "",
      "metadata": {},
      "execution_count": null,
      "outputs": []
    },
    {
      "cell_type": "code",
      "source": "",
      "metadata": {},
      "execution_count": null,
      "outputs": []
    }
  ]
}